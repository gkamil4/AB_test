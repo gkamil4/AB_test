{
 "cells": [
  {
   "cell_type": "markdown",
   "id": "ba9435e6",
   "metadata": {},
   "source": [
    "# Практическое задание\n",
    "В этом занятии вам предстоит продолжить пример с лекции и протестировать несколько других гипотез.\n",
    "\n",
    "Есть данные о такси-компании, которая хочет изучить отток водителей и посмотреть, какие есть различия между водителями, которые покидают сервис, и которые остаются. Нужно сформулировать и протестировать гипотезы, выделить группы водителей, которые наиболее подвержены \"оттоку\". На основе результатов сделать выводы о том, что можно улучшить в сервисе, чтобы в дальнейшем внести изменения.\n",
    "\n",
    "### Вопросы для проверки:\n",
    "* Проверьте, есть ли различия в размерах оттока клиентов в разных городах (churn, city)\n",
    "* Есть ли разница в активности в первые 30 дней с момента регистрации между водителями из разных городов? (city, trips_in_first_30_days)\n",
    "* Может ли отток быть связан с активностью в первые 30 дней после регистрации? (churn, trips_in_first_30_days)\n",
    "\n",
    "Перед проведением тестов проверьте распределения переменных, а также удовлетворяются ли параметрические условия. В зависимости от этого выберите правильный метод (схема выбора – здесь). Возможно пригодятся:\n",
    "```python\n",
    "from scipy.stats import chi2_contingency, chi2, mannwhitneyu, shapiro, kruskal\n",
    "import statsmodels.api as sa \n",
    "import scikit_posthocs as sp  # sp.posthoc_dunn() для непараметрического аналога anova \n",
    "```\n",
    "\n",
    "## Описание данных\n",
    "* `city` – город\n",
    "* `phone` – основное устройство, которое использует водитель\n",
    "* `signup_date` – дата регистрации аккаунта (YYYYMMDD)\n",
    "* `last_trip_date` – дата последней поездки (YYYYMMDD)\n",
    "* `avg_dist` – среднее расстояние (в милях) за поездку в первые 30 дней после регистрации\n",
    "* `avg_rating_by_driver` – средняя оценка поездок водителем\n",
    "* `vg_rating_of_driver` – средняя оценка поездок водителя\n",
    "* `surge_pct` – процент поездок, совершенных с множителем > 1 (кажется когда большая загруженность и тд)\n",
    "* `avg_surge` – средний множитель всплеска за все поездки этого водителя\n",
    "* `trips_in_first_30_days` – количество поездок, которые совершил водитель в первые 30 дней после регистрации\n",
    "* `luxury_car_user` – TRUE, если пользователь в первые 30 дней использовал премиум-автомобиль\n",
    "* `weekday_pct` – процент поездок пользователя, совершенных в будние дни"
   ]
  },
  {
   "cell_type": "code",
   "execution_count": 82,
   "id": "a684acf6",
   "metadata": {},
   "outputs": [],
   "source": [
    "import numpy as np\n",
    "import pandas as pd\n",
    "import scipy.stats as ss\n",
    "from scipy.stats import chi2_contingency, chi2, kruskal, mannwhitneyu\n",
    "import scikit_posthocs as sp\n",
    "import seaborn as sns\n",
    "import matplotlib.pyplot as plt\n",
    "\n",
    "import warnings\n",
    "warnings.filterwarnings(\"ignore\")\n",
    "\n",
    "%matplotlib inline"
   ]
  },
  {
   "cell_type": "markdown",
   "id": "709d4cb6",
   "metadata": {},
   "source": [
    "### Проверьте, есть ли различия в размерах оттока клиентов в разных городах (churn, city)"
   ]
  },
  {
   "cell_type": "code",
   "execution_count": 88,
   "id": "7765071a",
   "metadata": {},
   "outputs": [
    {
     "data": {
      "text/html": [
       "<div>\n",
       "<style scoped>\n",
       "    .dataframe tbody tr th:only-of-type {\n",
       "        vertical-align: middle;\n",
       "    }\n",
       "\n",
       "    .dataframe tbody tr th {\n",
       "        vertical-align: top;\n",
       "    }\n",
       "\n",
       "    .dataframe thead th {\n",
       "        text-align: right;\n",
       "    }\n",
       "</style>\n",
       "<table border=\"1\" class=\"dataframe\">\n",
       "  <thead>\n",
       "    <tr style=\"text-align: right;\">\n",
       "      <th></th>\n",
       "      <th>avg_dist</th>\n",
       "      <th>avg_rating_by_driver</th>\n",
       "      <th>avg_rating_of_driver</th>\n",
       "      <th>avg_surge</th>\n",
       "      <th>city</th>\n",
       "      <th>last_trip_date</th>\n",
       "      <th>phone</th>\n",
       "      <th>signup_date</th>\n",
       "      <th>surge_pct</th>\n",
       "      <th>trips_in_first_30_days</th>\n",
       "      <th>luxury_car_user</th>\n",
       "      <th>weekday_pct</th>\n",
       "    </tr>\n",
       "  </thead>\n",
       "  <tbody>\n",
       "    <tr>\n",
       "      <th>0</th>\n",
       "      <td>3.67</td>\n",
       "      <td>5.0</td>\n",
       "      <td>4.7</td>\n",
       "      <td>1.10</td>\n",
       "      <td>King's Landing</td>\n",
       "      <td>2014-06-17</td>\n",
       "      <td>iPhone</td>\n",
       "      <td>2014-01-25</td>\n",
       "      <td>15.4</td>\n",
       "      <td>4</td>\n",
       "      <td>True</td>\n",
       "      <td>46.2</td>\n",
       "    </tr>\n",
       "    <tr>\n",
       "      <th>1</th>\n",
       "      <td>8.26</td>\n",
       "      <td>5.0</td>\n",
       "      <td>5.0</td>\n",
       "      <td>1.00</td>\n",
       "      <td>Astapor</td>\n",
       "      <td>2014-05-05</td>\n",
       "      <td>Android</td>\n",
       "      <td>2014-01-29</td>\n",
       "      <td>0.0</td>\n",
       "      <td>0</td>\n",
       "      <td>False</td>\n",
       "      <td>50.0</td>\n",
       "    </tr>\n",
       "    <tr>\n",
       "      <th>2</th>\n",
       "      <td>0.77</td>\n",
       "      <td>5.0</td>\n",
       "      <td>4.3</td>\n",
       "      <td>1.00</td>\n",
       "      <td>Astapor</td>\n",
       "      <td>2014-01-07</td>\n",
       "      <td>iPhone</td>\n",
       "      <td>2014-01-06</td>\n",
       "      <td>0.0</td>\n",
       "      <td>3</td>\n",
       "      <td>False</td>\n",
       "      <td>100.0</td>\n",
       "    </tr>\n",
       "    <tr>\n",
       "      <th>3</th>\n",
       "      <td>2.36</td>\n",
       "      <td>4.9</td>\n",
       "      <td>4.6</td>\n",
       "      <td>1.14</td>\n",
       "      <td>King's Landing</td>\n",
       "      <td>2014-06-29</td>\n",
       "      <td>iPhone</td>\n",
       "      <td>2014-01-10</td>\n",
       "      <td>20.0</td>\n",
       "      <td>9</td>\n",
       "      <td>True</td>\n",
       "      <td>80.0</td>\n",
       "    </tr>\n",
       "    <tr>\n",
       "      <th>4</th>\n",
       "      <td>3.13</td>\n",
       "      <td>4.9</td>\n",
       "      <td>4.4</td>\n",
       "      <td>1.19</td>\n",
       "      <td>Winterfell</td>\n",
       "      <td>2014-03-15</td>\n",
       "      <td>Android</td>\n",
       "      <td>2014-01-27</td>\n",
       "      <td>11.8</td>\n",
       "      <td>14</td>\n",
       "      <td>False</td>\n",
       "      <td>82.4</td>\n",
       "    </tr>\n",
       "  </tbody>\n",
       "</table>\n",
       "</div>"
      ],
      "text/plain": [
       "   avg_dist  avg_rating_by_driver  avg_rating_of_driver  avg_surge  \\\n",
       "0      3.67                   5.0                   4.7       1.10   \n",
       "1      8.26                   5.0                   5.0       1.00   \n",
       "2      0.77                   5.0                   4.3       1.00   \n",
       "3      2.36                   4.9                   4.6       1.14   \n",
       "4      3.13                   4.9                   4.4       1.19   \n",
       "\n",
       "             city last_trip_date    phone signup_date  surge_pct  \\\n",
       "0  King's Landing     2014-06-17   iPhone  2014-01-25       15.4   \n",
       "1         Astapor     2014-05-05  Android  2014-01-29        0.0   \n",
       "2         Astapor     2014-01-07   iPhone  2014-01-06        0.0   \n",
       "3  King's Landing     2014-06-29   iPhone  2014-01-10       20.0   \n",
       "4      Winterfell     2014-03-15  Android  2014-01-27       11.8   \n",
       "\n",
       "   trips_in_first_30_days  luxury_car_user  weekday_pct  \n",
       "0                       4             True         46.2  \n",
       "1                       0            False         50.0  \n",
       "2                       3            False        100.0  \n",
       "3                       9             True         80.0  \n",
       "4                      14            False         82.4  "
      ]
     },
     "execution_count": 88,
     "metadata": {},
     "output_type": "execute_result"
    }
   ],
   "source": [
    "df = pd.read_csv('C:/Users/Александр/pj/karpov_courses/Статистика/АВ тесты практика/churn.csv')\n",
    "df.head()"
   ]
  },
  {
   "cell_type": "code",
   "execution_count": 90,
   "id": "abfcd264",
   "metadata": {},
   "outputs": [
    {
     "name": "stdout",
     "output_type": "stream",
     "text": [
      "<class 'pandas.core.frame.DataFrame'>\n",
      "RangeIndex: 50000 entries, 0 to 49999\n",
      "Data columns (total 12 columns):\n",
      " #   Column                  Non-Null Count  Dtype         \n",
      "---  ------                  --------------  -----         \n",
      " 0   avg_dist                50000 non-null  float64       \n",
      " 1   avg_rating_by_driver    49799 non-null  float64       \n",
      " 2   avg_rating_of_driver    41878 non-null  float64       \n",
      " 3   avg_surge               50000 non-null  float64       \n",
      " 4   city                    50000 non-null  object        \n",
      " 5   last_trip_date          50000 non-null  datetime64[ns]\n",
      " 6   phone                   49604 non-null  object        \n",
      " 7   signup_date             50000 non-null  datetime64[ns]\n",
      " 8   surge_pct               50000 non-null  float64       \n",
      " 9   trips_in_first_30_days  50000 non-null  int64         \n",
      " 10  luxury_car_user         50000 non-null  bool          \n",
      " 11  weekday_pct             50000 non-null  float64       \n",
      "dtypes: bool(1), datetime64[ns](2), float64(6), int64(1), object(2)\n",
      "memory usage: 4.2+ MB\n"
     ]
    }
   ],
   "source": [
    "df.last_trip_date = pd.to_datetime(df.last_trip_date)\n",
    "df.signup_date = pd.to_datetime(df.signup_date)\n",
    "df.info()"
   ]
  },
  {
   "cell_type": "code",
   "execution_count": 91,
   "id": "d99ffbe4",
   "metadata": {},
   "outputs": [
    {
     "data": {
      "text/plain": [
       "0        14 days\n",
       "1        57 days\n",
       "2       175 days\n",
       "3         2 days\n",
       "4       108 days\n",
       "          ...   \n",
       "49995    26 days\n",
       "49996   157 days\n",
       "49997    40 days\n",
       "49998   167 days\n",
       "49999    72 days\n",
       "Name: days_since_last_trip, Length: 50000, dtype: timedelta64[ns]"
      ]
     },
     "execution_count": 91,
     "metadata": {},
     "output_type": "execute_result"
    }
   ],
   "source": [
    "df['days_since_last_trip'] = df.last_trip_date.max() - df.last_trip_date\n",
    "df['days_since_last_trip']"
   ]
  },
  {
   "cell_type": "code",
   "execution_count": 92,
   "id": "dd5bcb3e",
   "metadata": {},
   "outputs": [
    {
     "data": {
      "text/plain": [
       "0         14\n",
       "1         57\n",
       "2        175\n",
       "3          2\n",
       "4        108\n",
       "        ... \n",
       "49995     26\n",
       "49996    157\n",
       "49997     40\n",
       "49998    167\n",
       "49999     72\n",
       "Name: days_since_last_trip, Length: 50000, dtype: int64"
      ]
     },
     "execution_count": 92,
     "metadata": {},
     "output_type": "execute_result"
    }
   ],
   "source": [
    "df['days_since_last_trip'] = df['days_since_last_trip'].dt.days\n",
    "df['days_since_last_trip']"
   ]
  },
  {
   "cell_type": "code",
   "execution_count": 93,
   "id": "9db218a3",
   "metadata": {},
   "outputs": [
    {
     "data": {
      "text/html": [
       "<div>\n",
       "<style scoped>\n",
       "    .dataframe tbody tr th:only-of-type {\n",
       "        vertical-align: middle;\n",
       "    }\n",
       "\n",
       "    .dataframe tbody tr th {\n",
       "        vertical-align: top;\n",
       "    }\n",
       "\n",
       "    .dataframe thead th {\n",
       "        text-align: right;\n",
       "    }\n",
       "</style>\n",
       "<table border=\"1\" class=\"dataframe\">\n",
       "  <thead>\n",
       "    <tr style=\"text-align: right;\">\n",
       "      <th></th>\n",
       "      <th>days_since_last_trip</th>\n",
       "      <th>churn</th>\n",
       "    </tr>\n",
       "  </thead>\n",
       "  <tbody>\n",
       "    <tr>\n",
       "      <th>0</th>\n",
       "      <td>14</td>\n",
       "      <td>not_churn</td>\n",
       "    </tr>\n",
       "    <tr>\n",
       "      <th>1</th>\n",
       "      <td>57</td>\n",
       "      <td>churn</td>\n",
       "    </tr>\n",
       "    <tr>\n",
       "      <th>2</th>\n",
       "      <td>175</td>\n",
       "      <td>churn</td>\n",
       "    </tr>\n",
       "    <tr>\n",
       "      <th>3</th>\n",
       "      <td>2</td>\n",
       "      <td>not_churn</td>\n",
       "    </tr>\n",
       "    <tr>\n",
       "      <th>4</th>\n",
       "      <td>108</td>\n",
       "      <td>churn</td>\n",
       "    </tr>\n",
       "    <tr>\n",
       "      <th>...</th>\n",
       "      <td>...</td>\n",
       "      <td>...</td>\n",
       "    </tr>\n",
       "    <tr>\n",
       "      <th>49995</th>\n",
       "      <td>26</td>\n",
       "      <td>not_churn</td>\n",
       "    </tr>\n",
       "    <tr>\n",
       "      <th>49996</th>\n",
       "      <td>157</td>\n",
       "      <td>churn</td>\n",
       "    </tr>\n",
       "    <tr>\n",
       "      <th>49997</th>\n",
       "      <td>40</td>\n",
       "      <td>churn</td>\n",
       "    </tr>\n",
       "    <tr>\n",
       "      <th>49998</th>\n",
       "      <td>167</td>\n",
       "      <td>churn</td>\n",
       "    </tr>\n",
       "    <tr>\n",
       "      <th>49999</th>\n",
       "      <td>72</td>\n",
       "      <td>churn</td>\n",
       "    </tr>\n",
       "  </tbody>\n",
       "</table>\n",
       "<p>50000 rows × 2 columns</p>\n",
       "</div>"
      ],
      "text/plain": [
       "       days_since_last_trip      churn\n",
       "0                        14  not_churn\n",
       "1                        57      churn\n",
       "2                       175      churn\n",
       "3                         2  not_churn\n",
       "4                       108      churn\n",
       "...                     ...        ...\n",
       "49995                    26  not_churn\n",
       "49996                   157      churn\n",
       "49997                    40      churn\n",
       "49998                   167      churn\n",
       "49999                    72      churn\n",
       "\n",
       "[50000 rows x 2 columns]"
      ]
     },
     "execution_count": 93,
     "metadata": {},
     "output_type": "execute_result"
    }
   ],
   "source": [
    "df['churn'] = df.days_since_last_trip.apply(lambda x: 'churn' if x > 30 else 'not_churn')\n",
    "df[['days_since_last_trip', 'churn']]"
   ]
  },
  {
   "cell_type": "code",
   "execution_count": 94,
   "id": "417075ad",
   "metadata": {},
   "outputs": [
    {
     "data": {
      "text/plain": [
       "churn        62.392\n",
       "not_churn    37.608\n",
       "Name: churn, dtype: float64"
      ]
     },
     "execution_count": 94,
     "metadata": {},
     "output_type": "execute_result"
    }
   ],
   "source": [
    "df.churn.value_counts(normalize=True).mul(100)"
   ]
  },
  {
   "cell_type": "code",
   "execution_count": 95,
   "id": "8d360c0e",
   "metadata": {},
   "outputs": [
    {
     "data": {
      "image/png": "[encoded data removed]",
      "text/plain": [
       "<Figure size 864x432 with 1 Axes>"
      ]
     },
     "metadata": {},
     "output_type": "display_data"
    }
   ],
   "source": [
    "sns.countplot('churn', data=df)\n",
    "sns.set(rc={'figure.figsize':(12,6)}, style=\"whitegrid\")\n",
    "sns.despine()"
   ]
  },
  {
   "cell_type": "code",
   "execution_count": 96,
   "id": "89e4a934",
   "metadata": {},
   "outputs": [
    {
     "name": "stdout",
     "output_type": "stream",
     "text": [
      "city       Astapor  King's Landing  Winterfell\n",
      "churn                                         \n",
      "churn        12306            3767       15123\n",
      "not_churn     4228            6363        8213\n"
     ]
    }
   ],
   "source": [
    "tab = pd.crosstab(df.churn, df.city)\n",
    "print(tab)"
   ]
  },
  {
   "cell_type": "code",
   "execution_count": 97,
   "id": "c696b95e",
   "metadata": {},
   "outputs": [
    {
     "name": "stdout",
     "output_type": "stream",
     "text": [
      "0.0\n"
     ]
    }
   ],
   "source": [
    "stat, p, dof, expected = chi2_contingency(tab)\n",
    "print(p)"
   ]
  },
  {
   "cell_type": "markdown",
   "id": "aa373429",
   "metadata": {},
   "source": [
    "Для проверки этой гипотезы я использую `ХИ-КВАДРАТ`, поскольку переменные: `ОБЕ КАТЕГОРИАЛЬНЫЕ`. Нулевая гипотеза `ОТКЛОНЯЕТСЯ`, поскольку `p-value < 0. 05`. Значит, `ВЗАИМОСВЯЗЬ ЕСТЬ`.\n",
    "\n",
    "## Есть ли разница в активности в первые 30 дней с момента регистрации между водителями из разных городов? (city, trips_in_first_30_days)\n",
    "\n",
    "Проверим распределение на нормальность:\n",
    "```python\n",
    "from scipy.stats import shapiro\n",
    "```\n",
    "\n",
    "Не забудьте использовать .sample(1000)."
   ]
  },
  {
   "cell_type": "code",
   "execution_count": 98,
   "id": "c39ef2c4",
   "metadata": {},
   "outputs": [],
   "source": [
    "import scipy\n",
    "from scipy.stats import shapiro"
   ]
  },
  {
   "cell_type": "code",
   "execution_count": 99,
   "id": "53e04e77",
   "metadata": {},
   "outputs": [
    {
     "data": {
      "image/png": "[encoded data removed]",
      "text/plain": [
       "<Figure size 864x432 with 1 Axes>"
      ]
     },
     "metadata": {},
     "output_type": "display_data"
    }
   ],
   "source": [
    "sns.distplot(df.trips_in_first_30_days)\n",
    "sns.set(rc={'figure.figsize':(12,6)}, style=\"whitegrid\")\n",
    "sns.despine()"
   ]
  },
  {
   "cell_type": "code",
   "execution_count": 100,
   "id": "7d92ea29",
   "metadata": {},
   "outputs": [],
   "source": [
    "ast = df[df.city == 'Astapor'].trips_in_first_30_days\n",
    "king = df[df.city == \"King's Landing\"].trips_in_first_30_days\n",
    "winter = df[df.city == 'Winterfell'].trips_in_first_30_days"
   ]
  },
  {
   "cell_type": "code",
   "execution_count": 101,
   "id": "545f166c",
   "metadata": {},
   "outputs": [
    {
     "name": "stdout",
     "output_type": "stream",
     "text": [
      "ShapiroResult(statistic=0.5414707660675049, pvalue=4.203895392974451e-45)\n",
      "ShapiroResult(statistic=0.6132159233093262, pvalue=1.6829594556541053e-42)\n",
      "ShapiroResult(statistic=0.5455795526504517, pvalue=7.006492321624085e-45)\n"
     ]
    }
   ],
   "source": [
    "print(shapiro(ast.sample(1000, random_state=17)))\n",
    "print(shapiro(king.sample(1000, random_state=17)))\n",
    "print(shapiro(winter.sample(1000, random_state=17)))"
   ]
  },
  {
   "cell_type": "markdown",
   "id": "97999b6b",
   "metadata": {},
   "source": [
    "* Распределения не являются нормальными, поэтому используем ANOVA\n",
    "* **Распределения не являются нормальными, поэтому используем непараметрический аналог ANOVA – критерий Краскела-Уоллиса**\n",
    "* Распределения являются нормальными, поэтому используем ANOVA\n",
    "* Распределения являются нормальными, поэтому используем t-test\n",
    "* Распределения являются нормальными, поэтому используем непараметрический аналог ANOVA – критерий Краскела-Уоллиса\n",
    "\n",
    "## Есть ли разница в активности в первые 30 дней с момента регистрации между водителями из разных городов? (city, trips_in_first_30_days)"
   ]
  },
  {
   "cell_type": "code",
   "execution_count": 102,
   "id": "0a0b7c34",
   "metadata": {},
   "outputs": [
    {
     "name": "stdout",
     "output_type": "stream",
     "text": [
      "KruskalResult(statistic=221.32105325317454, pvalue=8.724567791938856e-49)\n"
     ]
    }
   ],
   "source": [
    "kr_res = kruskal(ast, king, winter)\n",
    "print(kr_res)"
   ]
  },
  {
   "cell_type": "markdown",
   "id": "2840af08",
   "metadata": {},
   "source": [
    "Обнаружены ли статистически значимые различия?\n",
    "\n",
    "* **Да**\n",
    "* Нет\n",
    "\n",
    "## Может ли отток быть связан с активностью в первые 30 дней после регистрации? (churn, trips_in_first_30_days)"
   ]
  },
  {
   "cell_type": "code",
   "execution_count": 103,
   "id": "1be6de2b",
   "metadata": {},
   "outputs": [],
   "source": [
    "churn = df[df.churn == 'churn'].trips_in_first_30_days\n",
    "not_churn = df[df.churn == 'not_churn'].trips_in_first_30_days"
   ]
  },
  {
   "cell_type": "code",
   "execution_count": 104,
   "id": "748a1eac",
   "metadata": {},
   "outputs": [
    {
     "data": {
      "image/png": "[encoded data removed]",
      "text/plain": [
       "<Figure size 864x432 with 1 Axes>"
      ]
     },
     "metadata": {},
     "output_type": "display_data"
    }
   ],
   "source": [
    "sns.distplot(churn)\n",
    "sns.despine()"
   ]
  },
  {
   "cell_type": "code",
   "execution_count": 105,
   "id": "5f139f5f",
   "metadata": {},
   "outputs": [
    {
     "data": {
      "image/png": "[encoded data removed]",
      "text/plain": [
       "<Figure size 864x432 with 1 Axes>"
      ]
     },
     "metadata": {},
     "output_type": "display_data"
    }
   ],
   "source": [
    "sns.distplot(not_churn)\n",
    "sns.despine()"
   ]
  },
  {
   "cell_type": "code",
   "execution_count": 106,
   "id": "8a681240",
   "metadata": {},
   "outputs": [
    {
     "data": {
      "text/plain": [
       "MannwhitneyuResult(statistic=234767452.0, pvalue=0.0)"
      ]
     },
     "execution_count": 106,
     "metadata": {},
     "output_type": "execute_result"
    }
   ],
   "source": [
    "mannwhitneyu(churn, not_churn)"
   ]
  },
  {
   "cell_type": "code",
   "execution_count": 108,
   "id": "b1b9e1fe",
   "metadata": {},
   "outputs": [
    {
     "data": {
      "image/png": "[encoded data removed]",
      "text/plain": [
       "<Figure size 864x432 with 1 Axes>"
      ]
     },
     "metadata": {},
     "output_type": "display_data"
    }
   ],
   "source": [
    "sns.pointplot(x='churn', y='trips_in_first_30_days', data=df)\n",
    "sns.despine()"
   ]
  },
  {
   "cell_type": "markdown",
   "id": "94965e4c",
   "metadata": {},
   "source": [
    "Распределение переменной trips_in_first_30_days `НЕ ЯВЛЯЕТСЯ НОРМАЛЬНЫМ`, поэтому для проверки гипотезы я использую `U-КРИТЕРИЙ МАННА-УИТНИ`. Результат оказался статистически `ЗНАЧИМ`. Значит, `ЗНАЧИМЫЕ РАЗЛИЧИЯ ЕСТЬ, УШЕДШИЕ ПОЛЬЗОВАТЕЛИ БЫЛИ МЕНЕЕ АКТИВНЫ`."
   ]
  }
 ],
 "metadata": {
  "kernelspec": {
   "display_name": "Python 3 (ipykernel)",
   "language": "python",
   "name": "python3"
  },
  "language_info": {
   "codemirror_mode": {
    "name": "ipython",
    "version": 3
   },
   "file_extension": ".py",
   "mimetype": "text/x-python",
   "name": "python",
   "nbconvert_exporter": "python",
   "pygments_lexer": "ipython3",
   "version": "3.9.12"
  }
 },
 "nbformat": 4,
 "nbformat_minor": 5
}
